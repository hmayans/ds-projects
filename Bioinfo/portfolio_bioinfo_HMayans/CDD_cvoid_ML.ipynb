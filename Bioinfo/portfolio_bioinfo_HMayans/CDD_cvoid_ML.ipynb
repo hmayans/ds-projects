{
 "cells": [
  {
   "cell_type": "markdown",
   "metadata": {},
   "source": [
    "## **Importing libraries**"
   ]
  },
  {
   "cell_type": "code",
   "execution_count": 3,
   "metadata": {},
   "outputs": [],
   "source": [
    "# Import necessary libraries\n",
    "import pandas as pd\n",
    "from chembl_webresource_client.new_client import new_client"
   ]
  },
  {
   "cell_type": "markdown",
   "metadata": {},
   "source": [
    "## **Search for Target protein**"
   ]
  },
  {
   "cell_type": "markdown",
   "metadata": {},
   "source": [
    "### **Target search for SARS coronavirus 3C-like proteinase**\n",
    "\n",
    "Select and retrieve bioactivity data for the target protein. 3C-like proteinase, is key enzyme in SARS-CoV-2"
   ]
  },
  {
   "cell_type": "code",
   "execution_count": 4,
   "metadata": {},
   "outputs": [
    {
     "data": {
      "text/html": [
       "<div>\n",
       "<style scoped>\n",
       "    .dataframe tbody tr th:only-of-type {\n",
       "        vertical-align: middle;\n",
       "    }\n",
       "\n",
       "    .dataframe tbody tr th {\n",
       "        vertical-align: top;\n",
       "    }\n",
       "\n",
       "    .dataframe thead th {\n",
       "        text-align: right;\n",
       "    }\n",
       "</style>\n",
       "<table border=\"1\" class=\"dataframe\">\n",
       "  <thead>\n",
       "    <tr style=\"text-align: right;\">\n",
       "      <th></th>\n",
       "      <th>organism</th>\n",
       "      <th>pref_name</th>\n",
       "      <th>score</th>\n",
       "      <th>target_chembl_id</th>\n",
       "      <th>target_components</th>\n",
       "      <th>target_type</th>\n",
       "      <th>tax_id</th>\n",
       "    </tr>\n",
       "  </thead>\n",
       "  <tbody>\n",
       "    <tr>\n",
       "      <th>0</th>\n",
       "      <td>Coronavirus</td>\n",
       "      <td>Coronavirus</td>\n",
       "      <td>17.0</td>\n",
       "      <td>CHEMBL613732</td>\n",
       "      <td>[]</td>\n",
       "      <td>ORGANISM</td>\n",
       "      <td>11119</td>\n",
       "    </tr>\n",
       "    <tr>\n",
       "      <th>1</th>\n",
       "      <td>Feline coronavirus</td>\n",
       "      <td>Feline coronavirus</td>\n",
       "      <td>14.0</td>\n",
       "      <td>CHEMBL612744</td>\n",
       "      <td>[]</td>\n",
       "      <td>ORGANISM</td>\n",
       "      <td>12663</td>\n",
       "    </tr>\n",
       "    <tr>\n",
       "      <th>2</th>\n",
       "      <td>Murine coronavirus</td>\n",
       "      <td>Murine coronavirus</td>\n",
       "      <td>14.0</td>\n",
       "      <td>CHEMBL5209664</td>\n",
       "      <td>[]</td>\n",
       "      <td>ORGANISM</td>\n",
       "      <td>694005</td>\n",
       "    </tr>\n",
       "    <tr>\n",
       "      <th>3</th>\n",
       "      <td>Canine coronavirus</td>\n",
       "      <td>Canine coronavirus</td>\n",
       "      <td>14.0</td>\n",
       "      <td>CHEMBL5291668</td>\n",
       "      <td>[]</td>\n",
       "      <td>ORGANISM</td>\n",
       "      <td>11153</td>\n",
       "    </tr>\n",
       "    <tr>\n",
       "      <th>4</th>\n",
       "      <td>Human coronavirus 229E</td>\n",
       "      <td>Human coronavirus 229E</td>\n",
       "      <td>13.0</td>\n",
       "      <td>CHEMBL613837</td>\n",
       "      <td>[]</td>\n",
       "      <td>ORGANISM</td>\n",
       "      <td>11137</td>\n",
       "    </tr>\n",
       "    <tr>\n",
       "      <th>5</th>\n",
       "      <td>Human coronavirus OC43</td>\n",
       "      <td>Human coronavirus OC43</td>\n",
       "      <td>13.0</td>\n",
       "      <td>CHEMBL5209665</td>\n",
       "      <td>[]</td>\n",
       "      <td>ORGANISM</td>\n",
       "      <td>31631</td>\n",
       "    </tr>\n",
       "    <tr>\n",
       "      <th>6</th>\n",
       "      <td>Severe acute respiratory syndrome-related coro...</td>\n",
       "      <td>SARS coronavirus 3C-like proteinase</td>\n",
       "      <td>10.0</td>\n",
       "      <td>CHEMBL3927</td>\n",
       "      <td>[{'accession': 'P0C6U8', 'component_descriptio...</td>\n",
       "      <td>SINGLE PROTEIN</td>\n",
       "      <td>694009</td>\n",
       "    </tr>\n",
       "    <tr>\n",
       "      <th>7</th>\n",
       "      <td>Middle East respiratory syndrome-related coron...</td>\n",
       "      <td>Middle East respiratory syndrome-related coron...</td>\n",
       "      <td>9.0</td>\n",
       "      <td>CHEMBL4296578</td>\n",
       "      <td>[]</td>\n",
       "      <td>ORGANISM</td>\n",
       "      <td>1335626</td>\n",
       "    </tr>\n",
       "    <tr>\n",
       "      <th>8</th>\n",
       "      <td>Severe acute respiratory syndrome-related coro...</td>\n",
       "      <td>Replicase polyprotein 1ab</td>\n",
       "      <td>4.0</td>\n",
       "      <td>CHEMBL5118</td>\n",
       "      <td>[{'accession': 'P0C6X7', 'component_descriptio...</td>\n",
       "      <td>SINGLE PROTEIN</td>\n",
       "      <td>694009</td>\n",
       "    </tr>\n",
       "    <tr>\n",
       "      <th>9</th>\n",
       "      <td>Severe acute respiratory syndrome coronavirus 2</td>\n",
       "      <td>Replicase polyprotein 1ab</td>\n",
       "      <td>4.0</td>\n",
       "      <td>CHEMBL4523582</td>\n",
       "      <td>[{'accession': 'P0DTD1', 'component_descriptio...</td>\n",
       "      <td>SINGLE PROTEIN</td>\n",
       "      <td>2697049</td>\n",
       "    </tr>\n",
       "  </tbody>\n",
       "</table>\n",
       "</div>"
      ],
      "text/plain": [
       "                                            organism  \\\n",
       "0                                        Coronavirus   \n",
       "1                                 Feline coronavirus   \n",
       "2                                 Murine coronavirus   \n",
       "3                                 Canine coronavirus   \n",
       "4                             Human coronavirus 229E   \n",
       "5                             Human coronavirus OC43   \n",
       "6  Severe acute respiratory syndrome-related coro...   \n",
       "7  Middle East respiratory syndrome-related coron...   \n",
       "8  Severe acute respiratory syndrome-related coro...   \n",
       "9    Severe acute respiratory syndrome coronavirus 2   \n",
       "\n",
       "                                           pref_name  score target_chembl_id  \\\n",
       "0                                        Coronavirus   17.0     CHEMBL613732   \n",
       "1                                 Feline coronavirus   14.0     CHEMBL612744   \n",
       "2                                 Murine coronavirus   14.0    CHEMBL5209664   \n",
       "3                                 Canine coronavirus   14.0    CHEMBL5291668   \n",
       "4                             Human coronavirus 229E   13.0     CHEMBL613837   \n",
       "5                             Human coronavirus OC43   13.0    CHEMBL5209665   \n",
       "6                SARS coronavirus 3C-like proteinase   10.0       CHEMBL3927   \n",
       "7  Middle East respiratory syndrome-related coron...    9.0    CHEMBL4296578   \n",
       "8                          Replicase polyprotein 1ab    4.0       CHEMBL5118   \n",
       "9                          Replicase polyprotein 1ab    4.0    CHEMBL4523582   \n",
       "\n",
       "                                   target_components     target_type   tax_id  \n",
       "0                                                 []        ORGANISM    11119  \n",
       "1                                                 []        ORGANISM    12663  \n",
       "2                                                 []        ORGANISM   694005  \n",
       "3                                                 []        ORGANISM    11153  \n",
       "4                                                 []        ORGANISM    11137  \n",
       "5                                                 []        ORGANISM    31631  \n",
       "6  [{'accession': 'P0C6U8', 'component_descriptio...  SINGLE PROTEIN   694009  \n",
       "7                                                 []        ORGANISM  1335626  \n",
       "8  [{'accession': 'P0C6X7', 'component_descriptio...  SINGLE PROTEIN   694009  \n",
       "9  [{'accession': 'P0DTD1', 'component_descriptio...  SINGLE PROTEIN  2697049  "
      ]
     },
     "execution_count": 4,
     "metadata": {},
     "output_type": "execute_result"
    }
   ],
   "source": [
    "# Target search for coronavirus\n",
    "target = new_client.target\n",
    "target_query = target.search('coronavirus')\n",
    "targets = pd.DataFrame.from_dict(target_query)\n",
    "targets = targets.drop(columns=['species_group_flag', 'cross_references'])\n",
    "targets"
   ]
  },
  {
   "cell_type": "code",
   "execution_count": 5,
   "metadata": {},
   "outputs": [
    {
     "data": {
      "text/plain": [
       "'CHEMBL3927'"
      ]
     },
     "execution_count": 5,
     "metadata": {},
     "output_type": "execute_result"
    }
   ],
   "source": [
    "selected_target = targets.target_chembl_id.loc[targets['pref_name'].str.contains('3C-like proteinase')].iloc[0]\n",
    "selected_target"
   ]
  },
  {
   "cell_type": "markdown",
   "metadata": {},
   "source": [
    "**Why filter by 'IC50'?**\n",
    "\n",
    "'IC50' stands for half maximal inhibitory concentration. It’s a key pharmacological measurement that tells How much of a substance (a drug or compound) is needed to inhibit a given biological process (or enzyme) by 50%.\n",
    "\n",
    "The standard value is the potency of the drug. The lower the number the better the potency of the drug becomes. The number reflects the concentration. If you have a higher number it means that you requirer a higher concentration of drug for the same effect.\n",
    "\n",
    "- It's a standard and comparable way to evaluate inhibitory potency.\n",
    "- Lower IC50 values mean the compound is more potent at inhibiting the target.\n",
    "\n",
    "\n",
    "\n"
   ]
  },
  {
   "cell_type": "code",
   "execution_count": 6,
   "metadata": {},
   "outputs": [],
   "source": [
    "activity = new_client.activity\n",
    "res = activity.filter(target_chembl_id=selected_target).filter(standard_type='IC50')\n",
    "df = pd.DataFrame.from_dict(res)\n",
    "\n",
    "# Find and remove entries with null standard_value\n",
    "df = df[df.standard_value.notna()]"
   ]
  },
  {
   "cell_type": "code",
   "execution_count": 7,
   "metadata": {},
   "outputs": [],
   "source": [
    "df.to_csv('coronavirus_3C-like_protease.csv', index=False)"
   ]
  },
  {
   "cell_type": "markdown",
   "metadata": {},
   "source": [
    "## Handeling missing data or irrelevant columns"
   ]
  },
  {
   "cell_type": "markdown",
   "metadata": {},
   "source": [
    "Classifying columns by dtype and checking unique values for the int ones, we can say thar `src_id` and `standard_flag` columns are irrevelant therefore we can drop them.\n",
    "\n",
    "We will also drop the 0 Non-Null columns. And we will study columns where more than the 75% of the values are null in order to decide if they can be dropped or not."
   ]
  },
  {
   "cell_type": "code",
   "execution_count": 10,
   "metadata": {},
   "outputs": [
    {
     "name": "stdout",
     "output_type": "stream",
     "text": [
      "Object Columns: ['action_type', 'activity_comment', 'activity_properties', 'assay_chembl_id', 'assay_description', 'assay_type', 'assay_variant_accession', 'assay_variant_mutation', 'bao_endpoint', 'bao_format', 'bao_label', 'canonical_smiles', 'data_validity_comment', 'data_validity_description', 'document_chembl_id', 'document_journal', 'ligand_efficiency', 'molecule_chembl_id', 'molecule_pref_name', 'parent_molecule_chembl_id', 'pchembl_value', 'qudt_units', 'relation', 'standard_relation', 'standard_text_value', 'standard_type', 'standard_units', 'standard_upper_value', 'standard_value', 'target_chembl_id', 'target_organism', 'target_pref_name', 'target_tax_id', 'text_value', 'toid', 'type', 'units', 'uo_units', 'upper_value', 'value']\n",
      "Integer Columns: ['activity_id', 'document_year', 'potential_duplicate', 'record_id', 'src_id', 'standard_flag']\n",
      "document_year: [2005 2006 2007 2008 2010 2012 2013 2019 2023]\n",
      "potential_duplicate: [0 1]\n",
      "src_id: [1]\n",
      "standard_flag: [1]\n"
     ]
    }
   ],
   "source": [
    "dtype_classification = df.dtypes.to_dict()\n",
    "\n",
    "object_columns = [column for column, dtype in dtype_classification.items() if dtype == 'object']\n",
    "int_columns = [column for column, dtype in dtype_classification.items() if dtype == 'int64']\n",
    "\n",
    "# Print the classification\n",
    "print(\"Object Columns:\", object_columns)\n",
    "print(\"Integer Columns:\", int_columns)\n",
    "\n",
    "for col in int_columns:\n",
    "    if len(df[col].unique()) < 10:\n",
    "        print(f'{col}: {df[col].unique()}')"
   ]
  },
  {
   "cell_type": "code",
   "execution_count": 11,
   "metadata": {},
   "outputs": [
    {
     "name": "stdout",
     "output_type": "stream",
     "text": [
      "Columns with zero non-null values:\n",
      "activity_comment\n",
      "assay_variant_accession\n",
      "assay_variant_mutation\n",
      "standard_text_value\n",
      "standard_upper_value\n",
      "text_value\n",
      "toid\n",
      "upper_value\n"
     ]
    }
   ],
   "source": [
    "df.drop(columns=['src_id','standard_flag'], inplace=True)\n",
    "\n",
    "null_columns = df.columns[df.isnull().sum() == len(df)]\n",
    "if null_columns.empty:\n",
    "    print(\"There are no columns with zero non-null values.\")\n",
    "else:\n",
    "    print(\"Columns with zero non-null values:\")\n",
    "    for col in null_columns:\n",
    "        print(col)\n",
    "\n",
    "df.drop(columns=[col for col in null_columns],inplace=True)"
   ]
  },
  {
   "cell_type": "code",
   "execution_count": 13,
   "metadata": {},
   "outputs": [
    {
     "name": "stdout",
     "output_type": "stream",
     "text": [
      "Column \"action_type\" contains unhashable types (dict or list).\n",
      "Non-null values in column \"data_validity_comment\": ['Outside typical range'], count: 31\n",
      "Non-null values in column \"data_validity_description\": ['Values for this activity type are unusually large/small, so may not be accurate'], count: 31\n",
      "Non-null values in column \"molecule_pref_name\": ['BETULINIC ACID' 'NICLOSAMIDE' 'CURCUMIN' 'SAVININ' 'HINOKININ'\n",
      " 'BETUNOLIC ACID' 'TANSHINONE IIA' 'TANSHINONE IIB' 'METHYL TANSHINONATE'\n",
      " 'CRYPTOTANSHINONE' 'TANSHINONE I' 'DIHYDROTANSHINONE I' 'MILTIRONE'\n",
      " 'CINANSERIN'], count: 36\n"
     ]
    }
   ],
   "source": [
    "for col in df.columns[df.isnull().sum() >= 0.75*len(df)]:\n",
    "    if df[col].apply(lambda x: isinstance(x, (dict, list))).any():\n",
    "        print(f'Column \"{col}\" contains unhashable types (dict or list).')\n",
    "    else:\n",
    "        non_null_values = df[col].dropna().unique()  # Get unique non-null values\n",
    "        if non_null_values.size > 0:  # Check if there are any non-null values\n",
    "            print(f'Non-null values in column \"{col}\": {non_null_values}, count: {df[col].notna().sum()}')"
   ]
  },
  {
   "cell_type": "markdown",
   "metadata": {},
   "source": [
    "Since the unique values for `data_validity_comment` and `data_validity_description` are Null or non informative, we can drop them as well.\n",
    "\n",
    "Action type is unhasable (dict or list) therefore further analysis is needed. `molecule_pref_name` will be keeped for now as well."
   ]
  },
  {
   "cell_type": "markdown",
   "metadata": {},
   "source": [
    "## Data pre-processing of the bioactivity data"
   ]
  },
  {
   "cell_type": "markdown",
   "metadata": {},
   "source": [
    "### **Labeling compounds as either being active, inactive or intermediate**\n",
    "The bioactivity data is in the IC50 unit. Compounds having values of less than 1000 nM will be considered to be **active** while those greater than 10,000 nM will be considered to be **inactive**. As for those values in between 1,000 and 10,000 nM will be referred to as **intermediate**. "
   ]
  },
  {
   "cell_type": "code",
   "execution_count": 14,
   "metadata": {},
   "outputs": [],
   "source": [
    "bioactivity_class = []\n",
    "for i in df.standard_value:\n",
    "  if float(i) >= 10000:\n",
    "    bioactivity_class.append(\"inactive\")\n",
    "  elif float(i) <= 1000:\n",
    "    bioactivity_class.append(\"active\")\n",
    "  else:\n",
    "    bioactivity_class.append(\"intermediate\")\n",
    "\n",
    "bioactivity_class = pd.Series(bioactivity_class, name='bioactivity_class')"
   ]
  },
  {
   "cell_type": "markdown",
   "metadata": {},
   "source": [
    "`molecule_chembl_id`: chemical structure that produces a modulatory activity. It exerts some effect on the target protein.\n",
    "Multiple compounds (rows) might contain the same molecule. For simplicity we will keep only one of them.\n"
   ]
  },
  {
   "cell_type": "code",
   "execution_count": 15,
   "metadata": {},
   "outputs": [
    {
     "data": {
      "text/html": [
       "<div>\n",
       "<style scoped>\n",
       "    .dataframe tbody tr th:only-of-type {\n",
       "        vertical-align: middle;\n",
       "    }\n",
       "\n",
       "    .dataframe tbody tr th {\n",
       "        vertical-align: top;\n",
       "    }\n",
       "\n",
       "    .dataframe thead th {\n",
       "        text-align: right;\n",
       "    }\n",
       "</style>\n",
       "<table border=\"1\" class=\"dataframe\">\n",
       "  <thead>\n",
       "    <tr style=\"text-align: right;\">\n",
       "      <th></th>\n",
       "      <th>molecule_chembl_id</th>\n",
       "      <th>canonical_smiles</th>\n",
       "      <th>standard_value</th>\n",
       "      <th>bioactivity_class</th>\n",
       "    </tr>\n",
       "  </thead>\n",
       "  <tbody>\n",
       "    <tr>\n",
       "      <th>0</th>\n",
       "      <td>CHEMBL187579</td>\n",
       "      <td>Cc1noc(C)c1CN1C(=O)C(=O)c2cc(C#N)ccc21</td>\n",
       "      <td>7200.0</td>\n",
       "      <td>intermediate</td>\n",
       "    </tr>\n",
       "    <tr>\n",
       "      <th>1</th>\n",
       "      <td>CHEMBL188487</td>\n",
       "      <td>O=C1C(=O)N(Cc2ccc(F)cc2Cl)c2ccc(I)cc21</td>\n",
       "      <td>9400.0</td>\n",
       "      <td>intermediate</td>\n",
       "    </tr>\n",
       "    <tr>\n",
       "      <th>2</th>\n",
       "      <td>CHEMBL185698</td>\n",
       "      <td>O=C1C(=O)N(CC2COc3ccccc3O2)c2ccc(I)cc21</td>\n",
       "      <td>13500.0</td>\n",
       "      <td>inactive</td>\n",
       "    </tr>\n",
       "    <tr>\n",
       "      <th>3</th>\n",
       "      <td>CHEMBL426082</td>\n",
       "      <td>O=C1C(=O)N(Cc2cc3ccccc3s2)c2ccccc21</td>\n",
       "      <td>13110.0</td>\n",
       "      <td>inactive</td>\n",
       "    </tr>\n",
       "    <tr>\n",
       "      <th>4</th>\n",
       "      <td>CHEMBL187717</td>\n",
       "      <td>O=C1C(=O)N(Cc2cc3ccccc3s2)c2c1cccc2[N+](=O)[O-]</td>\n",
       "      <td>2000.0</td>\n",
       "      <td>intermediate</td>\n",
       "    </tr>\n",
       "    <tr>\n",
       "      <th>...</th>\n",
       "      <td>...</td>\n",
       "      <td>...</td>\n",
       "      <td>...</td>\n",
       "      <td>...</td>\n",
       "    </tr>\n",
       "    <tr>\n",
       "      <th>244</th>\n",
       "      <td>CHEMBL2365410</td>\n",
       "      <td>CC(C)C[C@H](NC(=O)OCc1ccccc1)C(=O)N[C@@H](CC1C...</td>\n",
       "      <td>161.0</td>\n",
       "      <td>active</td>\n",
       "    </tr>\n",
       "    <tr>\n",
       "      <th>245</th>\n",
       "      <td>CHEMBL5436771</td>\n",
       "      <td>S=C([S-])NCc1cccnc1.[K+]</td>\n",
       "      <td>165.96</td>\n",
       "      <td>NaN</td>\n",
       "    </tr>\n",
       "    <tr>\n",
       "      <th>246</th>\n",
       "      <td>CHEMBL2365410</td>\n",
       "      <td>CC(C)C[C@H](NC(=O)OCc1ccccc1)C(=O)N[C@@H](CC1C...</td>\n",
       "      <td>162.18</td>\n",
       "      <td>NaN</td>\n",
       "    </tr>\n",
       "    <tr>\n",
       "      <th>220</th>\n",
       "      <td>NaN</td>\n",
       "      <td>NaN</td>\n",
       "      <td>NaN</td>\n",
       "      <td>inactive</td>\n",
       "    </tr>\n",
       "    <tr>\n",
       "      <th>222</th>\n",
       "      <td>NaN</td>\n",
       "      <td>NaN</td>\n",
       "      <td>NaN</td>\n",
       "      <td>intermediate</td>\n",
       "    </tr>\n",
       "  </tbody>\n",
       "</table>\n",
       "<p>247 rows × 4 columns</p>\n",
       "</div>"
      ],
      "text/plain": [
       "    molecule_chembl_id                                   canonical_smiles  \\\n",
       "0         CHEMBL187579             Cc1noc(C)c1CN1C(=O)C(=O)c2cc(C#N)ccc21   \n",
       "1         CHEMBL188487             O=C1C(=O)N(Cc2ccc(F)cc2Cl)c2ccc(I)cc21   \n",
       "2         CHEMBL185698            O=C1C(=O)N(CC2COc3ccccc3O2)c2ccc(I)cc21   \n",
       "3         CHEMBL426082                O=C1C(=O)N(Cc2cc3ccccc3s2)c2ccccc21   \n",
       "4         CHEMBL187717    O=C1C(=O)N(Cc2cc3ccccc3s2)c2c1cccc2[N+](=O)[O-]   \n",
       "..                 ...                                                ...   \n",
       "244      CHEMBL2365410  CC(C)C[C@H](NC(=O)OCc1ccccc1)C(=O)N[C@@H](CC1C...   \n",
       "245      CHEMBL5436771                           S=C([S-])NCc1cccnc1.[K+]   \n",
       "246      CHEMBL2365410  CC(C)C[C@H](NC(=O)OCc1ccccc1)C(=O)N[C@@H](CC1C...   \n",
       "220                NaN                                                NaN   \n",
       "222                NaN                                                NaN   \n",
       "\n",
       "    standard_value bioactivity_class  \n",
       "0           7200.0      intermediate  \n",
       "1           9400.0      intermediate  \n",
       "2          13500.0          inactive  \n",
       "3          13110.0          inactive  \n",
       "4           2000.0      intermediate  \n",
       "..             ...               ...  \n",
       "244          161.0            active  \n",
       "245         165.96               NaN  \n",
       "246         162.18               NaN  \n",
       "220            NaN          inactive  \n",
       "222            NaN      intermediate  \n",
       "\n",
       "[247 rows x 4 columns]"
      ]
     },
     "execution_count": 15,
     "metadata": {},
     "output_type": "execute_result"
    }
   ],
   "source": [
    "bioactivity_columns = ['molecule_chembl_id', 'canonical_smiles', 'standard_value']\n",
    "df_bioactivity = df[bioactivity_columns]\n",
    "pd.concat([df_bioactivity, bioactivity_class], axis=1)"
   ]
  },
  {
   "cell_type": "code",
   "execution_count": 16,
   "metadata": {},
   "outputs": [],
   "source": [
    "df_bioactivity.to_csv('bioactivity_preprocessed_data.csv', index=False)"
   ]
  },
  {
   "cell_type": "markdown",
   "metadata": {},
   "source": [
    "```python\n",
    "mol_cid = [i for i in df.molecule_chembl_id]\n",
    "canonical_smiles = [i for i in df.canonical_smiles]\n",
    "standard_value = [i for i in df.standard_value]\n",
    "\n",
    "data_tuple = list(zip(mol_cid, canonical_smiles, bioactivity_class, standard_value))\n",
    "df_bioactivity = pd.DataFrame(data_tuple, columns=['molecule_chembl_id', 'canonical_smiles', 'bioactivity_class', 'standard_value'])"
   ]
  },
  {
   "cell_type": "code",
   "execution_count": null,
   "metadata": {},
   "outputs": [],
   "source": []
  }
 ],
 "metadata": {
  "kernelspec": {
   "display_name": ".bioinfo",
   "language": "python",
   "name": "python3"
  },
  "language_info": {
   "codemirror_mode": {
    "name": "ipython",
    "version": 3
   },
   "file_extension": ".py",
   "mimetype": "text/x-python",
   "name": "python",
   "nbconvert_exporter": "python",
   "pygments_lexer": "ipython3",
   "version": "3.13.1"
  }
 },
 "nbformat": 4,
 "nbformat_minor": 2
}
